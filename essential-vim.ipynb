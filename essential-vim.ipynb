{
 "cells": [
  {
   "cell_type": "markdown",
   "metadata": {
    "ExecuteTime": {
     "end_time": "2019-03-19T16:54:14.504773Z",
     "start_time": "2019-03-19T16:54:14.499445Z"
    }
   },
   "source": [
    "# General\n",
    "\n",
    "\n",
    "**`Esc`**/**`Ctrl+c`** : 📣command mode\n",
    "\n",
    "**`:q!`** : 🚪quit without saving\n",
    "\n",
    "**`:wq`**/**`:x`** : ✅🚪save and quit\n",
    "\n",
    "**`u`** : ↩️undo\n",
    "\n",
    "**`Ctrl + r`** : ↪️redo\n",
    "\n",
    "**`:set number`** : 🔢\n",
    "\n",
    "---"
   ]
  },
  {
   "cell_type": "markdown",
   "metadata": {
    "ExecuteTime": {
     "end_time": "2019-03-25T01:45:44.417765Z",
     "start_time": "2019-03-25T01:45:44.412360Z"
    }
   },
   "source": [
    "# Insert\n",
    "\n",
    "**`i`** : ⤵️insert before cursor\n",
    "- **`a`** : insert after cursor\n",
    "- **`o`** : insert new line\n",
    "- **`:r file`** : insert external file at the location of the cursor\n",
    "- **`:#r file`** : insert external file at line number #\n",
    "\n",
    "---"
   ]
  },
  {
   "cell_type": "markdown",
   "metadata": {},
   "source": [
    "\n",
    "# Movement\n",
    "\n",
    "## character\n",
    "\n",
    "**`h`** : ⬅️Left\n",
    "\n",
    "**`l`** : ➡️Right\n",
    "\n",
    "\n",
    "\n",
    "## line\n",
    "\n",
    "**`j`** : ⬇️Down\n",
    "\n",
    "**`k`** : ⬆️Up\n",
    "\n",
    "**`:#`** : jump to line number #\n",
    "- or **`#G`** \n",
    "\n",
    "**`0`** : ⬅️jump to beginning of the line\n",
    "\n",
    "**`$`** : ➡️jump to the end of the line\n",
    "\n",
    "\n",
    "\n",
    "## word\n",
    "\n",
    "**`w`** : ➡️next word (beginning)\n",
    "\n",
    "**`e`** : ➡️next word (end)\n",
    "\n",
    "**`b`** : ⬅️previous word (beginning)\n",
    "\n",
    "\n",
    "## sentence\n",
    "\n",
    "**`)`** : ➡️jump to the beginning of the next sentence \n",
    "\n",
    "**`(`** : ⬅️jump to the beginning of the previous word \n",
    "\n",
    "\n",
    "## paragraph\n",
    "\n",
    "**`}`** : ➡️jump to the beginning of the next paragraph \n",
    "\n",
    "**`{`** : ⬅️jump to the beginning of the previous paragraph \n",
    "\n",
    "\n",
    "## page/screen\n",
    "\n",
    "**`G`** : ⏭move screen to the end of the text\n",
    "\n",
    "**`gg`** : ⏮move screen to the beginning of the text\n",
    "\n",
    "\n",
    "**`Ctrl+f`** : ➡️next page\n",
    "\n",
    "**`Ctrl+b`** : ⬅️previous page\n",
    "\n"
   ]
  },
  {
   "cell_type": "markdown",
   "metadata": {
    "ExecuteTime": {
     "end_time": "2019-03-23T22:45:52.231563Z",
     "start_time": "2019-03-23T22:45:52.228934Z"
    }
   },
   "source": [
    "---\n",
    "\n",
    "# Search Pattern\n"
   ]
  },
  {
   "cell_type": "markdown",
   "metadata": {
    "ExecuteTime": {
     "end_time": "2019-03-23T22:48:58.328014Z",
     "start_time": "2019-03-23T22:48:58.322881Z"
    }
   },
   "source": [
    "**`/`** : ➡️search pattern (forward)\n",
    "    \n",
    "**`?`** : ⬅️search pattern (backward)\n",
    "\n",
    "**`n`** : ➡️ / ⬅️find next (same direction)\n",
    "\n",
    "**`N`** : ➡️ / ⬅️find next (opposite direction)\n",
    "\n",
    "\n",
    "**`*`** : ➡️search current word (forward)\n",
    "    \n",
    "**`#`** : ⬅️search current word (backward)"
   ]
  },
  {
   "cell_type": "markdown",
   "metadata": {
    "ExecuteTime": {
     "end_time": "2019-03-24T23:03:28.262234Z",
     "start_time": "2019-03-24T23:03:28.250365Z"
    }
   },
   "source": [
    "---\n",
    "\n",
    "# Editing "
   ]
  },
  {
   "cell_type": "markdown",
   "metadata": {
    "ExecuteTime": {
     "end_time": "2019-03-25T01:31:54.383826Z",
     "start_time": "2019-03-25T01:31:54.378741Z"
    }
   },
   "source": [
    "## cut/copy/paste"
   ]
  },
  {
   "cell_type": "markdown",
   "metadata": {},
   "source": [
    "**`d`** : ❌✂️delete/cut selection\n",
    "\n",
    "use with motions: \n",
    "- **`de`** : delete rest of the word\n",
    "- **`d)`** : delete rest of the sentence\n",
    "- **`dd`** : delete a line\n",
    "- **`d/?`** : delete until ? \n",
    "\n",
    "\n",
    "\n",
    "**`y`** : 📑copy\n",
    "\n",
    "use with motions: \n",
    "- **`ye`** : copy rest of the word\n",
    "- **`y)`** : copy rest of the sentence\n",
    "- **`yy`** : copy line\n",
    "\n",
    "\n",
    "**`x`** : ❌✂️cut character/selection\n",
    "\n",
    "**`p`** : 📋paste (after the cursor)\n",
    "\n",
    "\n"
   ]
  },
  {
   "cell_type": "markdown",
   "metadata": {
    "ExecuteTime": {
     "end_time": "2019-03-25T01:34:05.063732Z",
     "start_time": "2019-03-25T01:34:05.060604Z"
    }
   },
   "source": [
    "## selection"
   ]
  },
  {
   "cell_type": "markdown",
   "metadata": {
    "ExecuteTime": {
     "end_time": "2019-03-25T01:39:32.307930Z",
     "start_time": "2019-03-25T01:39:32.301046Z"
    }
   },
   "source": [
    "**`v`** : 🔖select mode\n",
    "- **`V`** : select line\n",
    "- **`Ctrl+v`** : select block"
   ]
  },
  {
   "cell_type": "markdown",
   "metadata": {
    "ExecuteTime": {
     "end_time": "2019-03-25T01:32:07.081418Z",
     "start_time": "2019-03-25T01:32:07.076367Z"
    }
   },
   "source": [
    "## replace"
   ]
  },
  {
   "cell_type": "markdown",
   "metadata": {
    "ExecuteTime": {
     "end_time": "2019-03-25T01:33:01.859408Z",
     "start_time": "2019-03-25T01:33:01.844694Z"
    }
   },
   "source": [
    "\n",
    "**`r`** : ❌⤵️replace character\n",
    "- **`s`** : delete character and insert\n",
    "    \n",
    "**`c`** : ❌⤵️replace entire line or selection\n",
    "\n",
    "use with motions: \n",
    "- **`ce`** : replace rest of the word\n",
    "- **`c)`** : replace rest of the sentence\n",
    "- **`cc`** : replace a line\n",
    "- **`c/?`** : delete until ? and replace with\n",
    "\n",
    "**`:%s/old/new/gc`** : 👴⤵️👦replace old pattern with new (global/confirm)"
   ]
  },
  {
   "cell_type": "markdown",
   "metadata": {
    "ExecuteTime": {
     "end_time": "2019-03-27T17:53:25.071498Z",
     "start_time": "2019-03-27T17:53:25.049113Z"
    }
   },
   "source": [
    "# Jumps, Marks & Registers"
   ]
  },
  {
   "cell_type": "markdown",
   "metadata": {
    "ExecuteTime": {
     "end_time": "2019-03-27T17:58:35.345769Z",
     "start_time": "2019-03-27T17:58:35.342176Z"
    }
   },
   "source": [
    "## Jump History"
   ]
  },
  {
   "cell_type": "markdown",
   "metadata": {
    "ExecuteTime": {
     "end_time": "2019-03-27T18:00:34.323127Z",
     "start_time": "2019-03-27T18:00:34.316365Z"
    }
   },
   "source": [
    "**`Ctrl + i`** : ⏩ move curser forward in history\n",
    "\n",
    "**`Ctrl + o`** : ⏪ move curser backward in history\n",
    "\n",
    "**`:jumps`** : 📜see list of jumps \n",
    "    \n",
    "    \n"
   ]
  },
  {
   "cell_type": "markdown",
   "metadata": {
    "ExecuteTime": {
     "end_time": "2019-03-27T17:58:23.787591Z",
     "start_time": "2019-03-27T17:58:23.784503Z"
    }
   },
   "source": [
    "## Marks"
   ]
  },
  {
   "cell_type": "markdown",
   "metadata": {
    "ExecuteTime": {
     "end_time": "2019-03-27T17:53:25.071498Z",
     "start_time": "2019-03-27T17:53:25.049113Z"
    }
   },
   "source": [
    "**`ma`** : ◎ mark current position as a\n",
    "\n",
    "**`'a`** : 🎯jump to mark a\n",
    "\n",
    "**`'.`** : ⏪jump to last edit\n",
    "    \n",
    "**`:marks`** : 📜see list of marks \n"
   ]
  },
  {
   "cell_type": "markdown",
   "metadata": {
    "ExecuteTime": {
     "end_time": "2019-03-25T01:52:26.279950Z",
     "start_time": "2019-03-25T01:52:26.277237Z"
    }
   },
   "source": [
    "## register"
   ]
  },
  {
   "cell_type": "markdown",
   "metadata": {
    "ExecuteTime": {
     "end_time": "2019-03-25T01:53:08.929619Z",
     "start_time": "2019-03-25T01:53:08.923860Z"
    }
   },
   "source": [
    "**`\"ay`** : 📑copy to register a\n",
    "    \n",
    "**`\"ap`** : 📋paste from register a\n",
    "    \n",
    "**`:reg`** : 📜see list of registers \n"
   ]
  },
  {
   "cell_type": "markdown",
   "metadata": {
    "ExecuteTime": {
     "end_time": "2019-03-27T18:17:40.802970Z",
     "start_time": "2019-03-27T18:17:40.800120Z"
    }
   },
   "source": [
    "# Multiple Files and Buffers and Tabs"
   ]
  },
  {
   "cell_type": "markdown",
   "metadata": {
    "ExecuteTime": {
     "end_time": "2019-03-27T19:55:17.083425Z",
     "start_time": "2019-03-27T19:55:17.071353Z"
    }
   },
   "source": [
    "## split view\n",
    "\n",
    "**`:sp`** : 🏙🏙 split view (open new window/ same buffer)\n",
    "- or **`Ctrl+ws`** \n",
    "- **`:vsp`** : split vertically\n",
    "\n",
    "**`Ctrl + ww`** : 🏙🔄🏙 switch between windows\n",
    "\n",
    "**`Ctrl + wc`** : 🏙close window"
   ]
  },
  {
   "cell_type": "markdown",
   "metadata": {
    "ExecuteTime": {
     "end_time": "2019-03-27T22:01:42.683775Z",
     "start_time": "2019-03-27T22:01:42.677360Z"
    }
   },
   "source": [
    "## Buffers\n",
    "\n",
    "**`:e file`** : 🏙🌆 edit file in new buffer\n",
    "- **`:e!`** : reload file from disc\n",
    "\n",
    "**`Ctrl+g`** : ℹ️show file name and cursor location\n",
    "\n",
    "**`:ls`** : 📜see list of all buffers \n",
    "\n",
    "**`:bn`** : 🏙➡️🌆 move to next buffer\n",
    "\n",
    "**`:bp`** : 🏙⬅️🌆 move to previous buffer\n",
    "\n",
    "- **`:b file`** : move to a specific buffer \"file\"\n",
    "- **`:b #`** : move to buffer number #"
   ]
  },
  {
   "cell_type": "markdown",
   "metadata": {
    "ExecuteTime": {
     "end_time": "2019-03-27T23:23:33.402132Z",
     "start_time": "2019-03-27T23:23:33.390279Z"
    }
   },
   "source": [
    "## tabs\n",
    "\n",
    "**`:tabnew`** : 🗂open new tab\n",
    "- **`:tabnew file`** : open file in new tab\n",
    "\n",
    "**`:tabn`** : ▶️🗂next tab\n",
    "\n",
    "**`:tabp`** : 🗂◀️previous tab\n",
    "\n"
   ]
  },
  {
   "cell_type": "markdown",
   "metadata": {},
   "source": []
  },
  {
   "cell_type": "code",
   "execution_count": null,
   "metadata": {},
   "outputs": [],
   "source": []
  }
 ],
 "metadata": {
  "kernelspec": {
   "display_name": "Python 3",
   "language": "python",
   "name": "python3"
  },
  "language_info": {
   "codemirror_mode": {
    "name": "ipython",
    "version": 3
   },
   "file_extension": ".py",
   "mimetype": "text/x-python",
   "name": "python",
   "nbconvert_exporter": "python",
   "pygments_lexer": "ipython3",
   "version": "3.6.8"
  },
  "toc": {
   "base_numbering": 1,
   "nav_menu": {},
   "number_sections": true,
   "sideBar": true,
   "skip_h1_title": false,
   "title_cell": "Table of Contents",
   "title_sidebar": "Contents",
   "toc_cell": false,
   "toc_position": {
    "height": "calc(100% - 180px)",
    "left": "10px",
    "top": "150px",
    "width": "360px"
   },
   "toc_section_display": true,
   "toc_window_display": true
  }
 },
 "nbformat": 4,
 "nbformat_minor": 2
}
